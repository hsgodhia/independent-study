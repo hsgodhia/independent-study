{
 "cells": [
  {
   "cell_type": "code",
   "execution_count": null,
   "metadata": {
    "collapsed": true
   },
   "outputs": [],
   "source": [
    "def get_data():\n",
    "    s1, s2 = [], []\n",
    "    # processing the anotated ppdb data set from Kevin Gimpel / weitling et al\n",
    "    with open(\"ppdb_all.txt\", \"r\") as fp:\n",
    "        lines = fp.readlines()\n",
    "        for l in lines:\n",
    "            l = l.strip()\n",
    "            dt = l.split(\"|||\")\n",
    "            if float(dt[2]) < 2.0:\n",
    "                continue\n",
    "            s1.append(dt[0])\n",
    "            s2.append(dt[1])\n",
    "    return s1, s2"
   ]
  },
  {
   "cell_type": "code",
   "execution_count": 2,
   "metadata": {},
   "outputs": [],
   "source": [
    "import numpy as np"
   ]
  },
  {
   "cell_type": "code",
   "execution_count": 3,
   "metadata": {},
   "outputs": [
    {
     "name": "stdout",
     "output_type": "stream",
     "text": [
      "Found 2196016 words with glove vectors\n"
     ]
    }
   ],
   "source": [
    "# load the word to vec and get a vocabulary folder\n",
    "# create word_vec with glove vectors\n",
    "word_vec, glove_path = {}, \"glove.840B.300d.txt\"\n",
    "with open(glove_path) as f:\n",
    "    for line in f:\n",
    "        word, vec = line.split(' ', 1)\n",
    "        # if word in word_dict:\n",
    "        word_vec[word] = np.array(list(map(float, vec.split())))\n",
    "print('Found {0} words with glove vectors'.format(\n",
    "            len(word_vec)))"
   ]
  },
  {
   "cell_type": "code",
   "execution_count": 17,
   "metadata": {},
   "outputs": [],
   "source": [
    "import re\n",
    "def checkword_sent(word_vec, sent):\n",
    "    sent = sent.replace(\"!\", \"\").replace(\"?\",\"\")\n",
    "    for w in sent.split(\" \"):\n",
    "        w = w.strip()\n",
    "        w = w.lower()        \n",
    "        if w not in word_vec:\n",
    "            # print('{} not in vocab'.format(w))\n",
    "            return False\n",
    "    return True\n",
    "\n",
    "\n",
    "# getting the 0 indicated data points as negative samples for the training input\n",
    "def get_negative_data():\n",
    "    s1, s2 = [], []\n",
    "    with open(\"quora_duplicate_questions.tsv\", \"r\") as fp:        \n",
    "        lines = fp.readlines()\n",
    "        print(len(lines))\n",
    "        for i, l in enumerate(lines):\n",
    "            l = l.strip()\n",
    "            dt = l.split(\"\\t\")\n",
    "            if i == 0 or len(dt) < 6:\n",
    "                continue\n",
    "            \n",
    "            if not checkword_sent(word_vec, dt[4]):                \n",
    "                continue\n",
    "                        \n",
    "            if not checkword_sent(word_vec, dt[3]):                \n",
    "                continue\n",
    "                                    \n",
    "            if len(dt[3].split(\" \")) > 6 or len(dt[4].split(\" \")) > 6:\n",
    "                continue\n",
    "                \n",
    "            if len(s1) == 2756:\n",
    "                break\n",
    "                \n",
    "            if int(dt[5]) == 0:\n",
    "                s1.append(dt[3])\n",
    "                s2.append(dt[4])\n",
    "    return s1, s2"
   ]
  },
  {
   "cell_type": "code",
   "execution_count": 18,
   "metadata": {},
   "outputs": [
    {
     "name": "stdout",
     "output_type": "stream",
     "text": [
      "404302\n"
     ]
    },
    {
     "name": "stdout",
     "output_type": "stream",
     "text": [
      "2756\n2756\n"
     ]
    }
   ],
   "source": [
    "sx, sy = get_negative_data()\n",
    "print(len(sx))\n",
    "print(len(sy))"
   ]
  },
  {
   "cell_type": "code",
   "execution_count": 20,
   "metadata": {
    "collapsed": true
   },
   "outputs": [
    {
     "name": "stdout",
     "output_type": "stream",
     "text": [
      "('What is web application?', 'What is the web application framework?')\n('Why do Slavs squat?', 'Will squats make my legs thicker?')\n('Nd she is always sad?', 'Aerodynamically what happens when propellor rotates?')\n('How do I prevent breast cancer?', 'Is breast cancer preventable?')\n('Why did harry become a horcrux?', 'What is a Horcrux?')\n('How forgetful are you?', 'How can I forget my wife?')\n('Does cognition affect perception?', 'Does cognitive strain affect digestion?')\n('Why do Slavs squat?', 'Do squats work for men?')\n('How do most people die?', 'How do people die?')\n('What is in bone marrow?', 'What does bone marrow taste like?')\n('Do you need friends?', 'Why do we need friends?')\n('Do I exist?', 'Do we exist?')\n('What is journalism for you?', 'What is journalism?')\n('How racist is too racist?', 'How racist are you?')\n('Are Canada Geese really Canadian?', 'What do Canadians call Canada?')\n('How do scientists work?', 'Where do scientists work?')\n('What are natural numbers?', 'What is a least natural number?')\n('Have cavemen been scientifically tested?', 'Have mythical creatures been scientifically tested?')\n('Who owns nature?', 'Who owns Natural Factors?')\n('Do people with anemia die younger?', 'Does anemia increase irritability?')\n('Why is my dog biting me?', 'Why did my dog bite me?')\n('How do ATM machines work internally?', 'How does ATM transaction work?')\n('What are most underrated date activities?', 'What is the most underrated activity?')\n('How would you destroy the world?', 'How can I destroy the world?')\n('How do I start writing again?', 'How do I start writing?')\n('What is the aim?', 'What is the aim of science?')\n('What do Japanese think about Malaysian?', 'What do Malaysians think about indians?')\n('What are genders?', 'What is Gender Profiling?')\n('What is the essence of enlightenment?', 'What is enlightenment?')\n('How magnets are made?', 'What are magnets made of?')\n('How do payroll companies make money?', 'How companies make money?')\n('Why do you love her?', 'What do you love? Why?')\n('How can constipation cause dizziness?', 'Can constipation cause dizziness?')\n('Why is contract law important?', 'Why is maritime law so important?')\n('What are the consequences of trolling?', 'What are some consequences of blackouts?')\n('What is life without dreams?', 'Is life a dream or reality?')\n('What kind of animal did this?', 'What kind of animal are you?')\n('Do you have any paranormal experience?', 'What are your best paranormal experiences?')\n('How did you learn java?', 'How do I learn Java internals?')\n('Did Jesus like bananas?', 'Why is Jesus named Jesus?')\n('How do I find a hacker?', 'How does one become a hacker?')\n('Who were the Aztec?', 'Who were the Aztec Gods?')\n('Is fried food unhealthy?', 'Is pan fried food unhealthy?')\n('Who is the best footballer?', 'Who are the best footballer today?')\n('Why do Capricorns pull away?', 'What does love mean to Capricorns?')\n('How do you treat acne scars?', 'How do you treat acne?')\n('Is Bashar Al Assad a psychopath?', 'Where does Bashar Al Assad live?')\n('What are constant objects in C++?', 'What is constants in C?')\n('What is your theory of life?', 'What are some theories of life?')\n('How do modern touchscreens work?', 'Can touchscreens be used underwater?')\n"
     ]
    }
   ],
   "source": [
    "for i in zip(sx[:50], sy[:50]):\n",
    "    print(i)"
   ]
  },
  {
   "cell_type": "code",
   "execution_count": 21,
   "metadata": {},
   "outputs": [
    {
     "name": "stdout",
     "output_type": "stream",
     "text": [
      "True\n"
     ]
    }
   ],
   "source": [
    "print(checkword_sent(word_vec, \"What is the step by step guide to invest in share market in india?\"))"
   ]
  },
  {
   "cell_type": "code",
   "execution_count": 8,
   "metadata": {},
   "outputs": [
    {
     "name": "stdout",
     "output_type": "stream",
     "text": [
      "2756\n"
     ]
    }
   ],
   "source": [
    "def get_batch(sents):\n",
    "    # returns of dimension batch_size * max_len * word_dimension\n",
    "    # batch is a list of tuples\n",
    "    lengths = np.array([len(x) for x in sents])\n",
    "    max_len = np.max(lengths)\n",
    "    embed = np.zeros((len(sents), max_len, 300))\n",
    "    for i in range(len(sents)):\n",
    "        embed[i, :, :] ="
   ]
  },
  {
   "cell_type": "code",
   "execution_count": null,
   "metadata": {},
   "outputs": [],
   "source": [
    "def train():\n",
    "    s1, s2 = get_data()\n",
    "    batch_size = 100\n",
    "    for stdidx in range(0, len(data), batch_size):\n",
    "        s1 = get_batch(s1[stdidx:stdidx+batch_size])\n",
    "        s2 = get_batch(s2[stdidx:stdidx+batch_size])"
   ]
  }
 ],
 "metadata": {
  "kernelspec": {
   "display_name": "Python 2",
   "language": "python",
   "name": "python2"
  },
  "language_info": {
   "codemirror_mode": {
    "name": "ipython",
    "version": 2.0
   },
   "file_extension": ".py",
   "mimetype": "text/x-python",
   "name": "python",
   "nbconvert_exporter": "python",
   "pygments_lexer": "ipython2",
   "version": "2.7.6"
  }
 },
 "nbformat": 4,
 "nbformat_minor": 0
}