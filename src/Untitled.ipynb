{
 "cells": [
  {
   "cell_type": "code",
   "execution_count": 20,
   "metadata": {},
   "outputs": [
    {
     "name": "stdout",
     "output_type": "stream",
     "text": [
      "('B007QL9PY8', set(['clarissa', 'detective', 'comfort', 'impression', 'thigh', 'houston', 'photo', '~ reader', 'wind dancer', 'shoe', 'stalker', 'skill', 'zoo', 'pleased', 'reluctant', 'impact', 'apartment', 'thumb', 'vulnerable', 'jaw', 'presence', 'madman', 'crew', 't\\xeda', 'great-aunt', 'quinn marshall', 'rhythm', 'terror', 'mail', 'marsden', 'hat', 'texas', 'siren call', 'consuela', 'breathing', 'dust', 'sweetie', 'mercy', 'horror', 'photograph', 'houston detective', 'sweep', 'hallway', 'fan', 'breast', 'handsome', 'topaz eye', 'soothing', 'revulsion', 'josh', 'dignity', 'heaven', 'gown', 'spine', 'sofa', 'fragile', 'glove', 'perfume', 'naked', 'tenderness', 'nipple', 'vision', 'bond', 'slender frame', 'regret', 'tension', 'series', 'bedroom', 'palm', 'fist', 'springs', 'tender', 'candle', 'sport', 'barn', 'flower', 'jeremy', 'clock', 'broad', 'nightmare', 'texas hero', 'sweetgrass', 'sparkle', 'unable', 'passion', 'joy', 'print', 'guilt', 'worst', 'anna', 'noise', 'hero', 'frank', 'sorrow', 'makeup', 'grasp', 't\\xeda consuela', 'anticipation', 'studio', 'healing', 'hers', 'ache', 'precious', 'giggle', 'contraction', 'cop', 'accident', 'cowboy', 'career', 'fault', 'nausea', 'slender', 'doorway', 'despair', 'grief', 'sweat', 'tongue', 'pillow', 'emotion', 'nerve', 'bare', 'madness', 'danger', 'sweet', 'marshall', 'jeans', 'scene', 'height', 'instinct', 'canyon', 'quinn', 'scissors', 'blonde', 'scent', 'watkins', 'bent', 'bathroom', 'composure', 'eager', 'sake', 'gleam', 'sweater', 'sock', 'elevator', 'shame', 'camera', 'calm', 'frustration', 'tea', 'ankle', 'stage', 'chandler', 'cabin', 'sweetheart', 'diamond', 'loft', 'porch', 'altar', 'blessing', 'whirling', 'award', 'aware', 'juliette', 'basil', 'heat', 'ragged', 'careful', 'character', 'lovely lorie', 'shaft', 'super cowboy', 'pride', 'ben', 'glory', 'rage', 'blade', 'soul', 'rope', 'roar', 'brashear', 'awareness', 'taxi', 'visit jean', 'wild', 'cab', 'balance', '~', 'desperate', 'angel', 'steady', 'cowboys', 'ivory', 'surface', 'gentle', 'stroke', 'hug', 'curb', 'mesquite', 'lifetime', 'clothing', 'doorman', 'anguish', 'curl', 'playgroup', 'deeper', 'moonlight', 'siren', 'grant', 'agony', 'peace', 'boot', 'feature', 'couch', 'forehead', 'jean brashear', 'belly', 'pure', 'bitter rage', 'dread', 'brushing', 'urge', 'beauty', 'flesh', 'reaction', 'driver', 'bastard', 'director', 'curse', 'wrist', 'colello', 'pleasure', 'lorie chandler', 'broad shoulder', 'lap', 'glow', 'longing', 'task', 'waist', 'cloth', 'pretty lorie', 'tiny gold needlework', 'counter', 'curve', 'slender waist', 'relief', 'husky', 'jean', 'muscle', 'review']))\n"
     ]
    }
   ],
   "source": [
    "with open(\"./romance_keywords.tsv\", \"r\") as fp:\n",
    "    lines = fp.readlines()\n",
    "bk_wrds = {}    \n",
    "for l in lines[1:]:\n",
    "    l = l.split(\"\\t\")\n",
    "    if l[0] not in bk_wrds:\n",
    "        bk_wrds[l[0]] = set()\n",
    "    for wrd in l[1].split(\",\"):\n",
    "        bk_wrds[l[0]].add(wrd)\n",
    "\n",
    "cn = 10\n",
    "for bk in bk_wrds:\n",
    "    print(bk, bk_wrds[bk])\n",
    "    cn += 1\n",
    "    if cn > 10:\n",
    "        break\n",
    "\n",
    "glove_dict = {}\n",
    "def get_glovedict():\n",
    "    with open('./glove.840B.300d.txt') as f:\n",
    "        for line in f:\n",
    "            word, vec = line.split(' ', 1)\n",
    "            word = word.strip().lower()\n",
    "            glove_dict[word]= np.array(list(map(float, vec.split())))\n",
    "    \n",
    "def get_book_vectors2():\n",
    "    book_vectors = {}\n",
    "    for bk in bk_wrds:\n",
    "        vec = np.zeros(300,)\n",
    "        for wrd in bk_wrds[bk]:\n",
    "            if wrd in glove_dict:\n",
    "                c_vec = glove_dict[wrd]\n",
    "                vec += c_vec\n",
    "        norm = np.linalg.norm(vec, 2)\n",
    "        if norm > 0:\n",
    "            book_vectors[bk] = vec/norm\n",
    "        else:\n",
    "            book_vectors[bk] = vec\n",
    "    return book_vectors\n",
    "    "
   ]
  },
  {
   "cell_type": "code",
   "execution_count": 21,
   "metadata": {
    "collapsed": true
   },
   "outputs": [],
   "source": [
    "import numpy as np"
   ]
  },
  {
   "cell_type": "code",
   "execution_count": 22,
   "metadata": {},
   "outputs": [],
   "source": [
    "get_glovedict()"
   ]
  },
  {
   "cell_type": "code",
   "execution_count": 24,
   "metadata": {},
   "outputs": [],
   "source": [
    "book_vectors = get_book_vectors2()"
   ]
  },
  {
   "cell_type": "code",
   "execution_count": 27,
   "metadata": {},
   "outputs": [],
   "source": [
    "np.save('bk_vec2.npy', book_vectors)"
   ]
  },
  {
   "cell_type": "code",
   "execution_count": 28,
   "metadata": {
    "collapsed": true
   },
   "outputs": [],
   "source": [
    "bk_vecs2 = np.load('bk_vec2.npy').item()"
   ]
  },
  {
   "cell_type": "code",
   "execution_count": 29,
   "metadata": {},
   "outputs": [
    {
     "data": {
      "text/plain": [
       "array([  6.90235648e-02,  -4.99195271e-02,   3.41588007e-02,\n",
       "         9.68222521e-03,   2.09732719e-02,  -3.04955107e-02,\n",
       "        -2.35398156e-02,   1.60925500e-03,  -1.48375217e-02,\n",
       "        -5.16295452e-01,   7.18417430e-03,   4.12769761e-02,\n",
       "        -5.26677950e-02,   6.75561462e-02,   7.56523557e-02,\n",
       "        -8.19984603e-03,   2.66412235e-02,  -1.67273532e-01,\n",
       "         6.37229928e-02,   3.10435055e-03,   4.90267230e-03,\n",
       "        -4.70403736e-03,   2.54672204e-02,  -9.17063302e-03,\n",
       "        -1.16534988e-02,  -1.46101651e-02,   3.96725827e-02,\n",
       "         1.84959713e-02,  -5.09326655e-02,  -8.17976402e-02,\n",
       "         8.13065870e-02,   2.20803720e-02,   5.66754608e-04,\n",
       "        -1.39386544e-02,  -2.16119623e-02,   1.54711981e-02,\n",
       "         2.16584552e-02,  -5.22825454e-02,  -5.46149736e-03,\n",
       "         1.12770460e-01,   2.14078752e-02,   4.01904021e-02,\n",
       "         3.19619866e-02,  -3.50532499e-02,   4.65472763e-02,\n",
       "         1.75531391e-02,   1.32127444e-02,  -1.05601938e-01,\n",
       "         5.29769389e-03,   1.48372145e-02,   5.33825782e-02,\n",
       "        -3.10436837e-02,  -2.59163836e-02,   7.93396527e-03,\n",
       "         3.11762103e-02,  -1.71484410e-02,  -1.95508765e-03,\n",
       "         4.28969285e-03,   1.34585514e-02,   8.55824187e-03,\n",
       "        -2.69003935e-02,   2.05208893e-02,  -1.00442665e-02,\n",
       "        -2.62703101e-02,  -3.01195115e-02,   2.69349850e-02,\n",
       "         2.92263890e-02,  -3.43141676e-02,  -1.73288954e-02,\n",
       "         1.47305570e-02,   1.38853373e-02,   1.62257219e-02,\n",
       "        -3.75380353e-02,  -2.13956338e-02,  -5.80707423e-04,\n",
       "        -7.64333503e-03,   5.72778983e-03,  -2.67463510e-02,\n",
       "        -2.96401569e-02,  -4.47465808e-02,  -2.29487567e-02,\n",
       "        -1.64606776e-02,   6.55878150e-02,   9.80777201e-03,\n",
       "         5.28356523e-03,   1.60281704e-02,   5.68679087e-02,\n",
       "        -3.29464167e-01,  -4.55270818e-02,  -2.99198883e-02,\n",
       "         2.50770758e-02,   3.93713393e-02,  -1.42431088e-02,\n",
       "        -2.66527028e-02,  -6.30218377e-02,   8.83116845e-03,\n",
       "        -2.48673562e-02,   1.08339991e-02,   3.79057101e-03,\n",
       "         5.05049130e-04,   1.02504918e-03,  -6.19346415e-02,\n",
       "         2.74736773e-02,  -4.50699920e-02,   1.01644607e-03,\n",
       "        -3.03929698e-03,  -4.87450041e-03,  -6.47439613e-02,\n",
       "        -8.00846878e-02,  -5.64858888e-02,   1.61977111e-02,\n",
       "         1.25486011e-01,   4.93682603e-02,  -1.23396897e-02,\n",
       "        -3.12039912e-02,  -6.63855736e-03,   7.06924734e-03,\n",
       "        -2.13405375e-02,   4.55096559e-02,  -1.29262971e-02,\n",
       "        -5.00277347e-03,   6.39047904e-03,   6.25754149e-03,\n",
       "         4.92206130e-02,   1.44661989e-01,   1.66815233e-02,\n",
       "        -3.15188795e-02,   7.53236229e-02,  -2.71418669e-02,\n",
       "         3.70236869e-02,  -3.23413604e-02,  -4.86541419e-02,\n",
       "        -3.43628915e-02,  -2.58395652e-02,  -4.70940249e-02,\n",
       "        -1.77159320e-02,  -8.75477305e-03,  -8.39930177e-04,\n",
       "         5.26658400e-02,   1.95188457e-02,   1.31609993e-01,\n",
       "         3.38833474e-02,  -4.01626107e-02,   1.45887926e-02,\n",
       "        -1.60586143e-02,  -8.78144646e-03,   2.90534358e-02,\n",
       "         1.89294430e-02,   3.75200307e-02,  -6.24819436e-03,\n",
       "        -8.33925834e-02,   5.25780335e-02,   3.30535026e-03,\n",
       "        -1.32213928e-02,   2.93244310e-02,  -1.69736878e-02,\n",
       "        -1.29045182e-02,  -5.11877365e-02,  -2.11044406e-02,\n",
       "         4.37050822e-02,  -7.45445645e-02,  -7.52829352e-03,\n",
       "        -2.65557852e-02,  -2.65869422e-02,   7.16846593e-02,\n",
       "         7.74105969e-02,  -1.77575279e-02,  -1.30214460e-02,\n",
       "        -4.57127111e-02,  -1.86900984e-03,  -4.50378846e-02,\n",
       "        -3.68242673e-02,   6.61527500e-02,  -8.20851345e-03,\n",
       "         7.08790997e-02,   1.62000902e-02,   3.83218207e-03,\n",
       "         3.35958633e-02,  -3.81544821e-02,   7.61138305e-03,\n",
       "        -5.66236096e-02,   3.23493548e-02,  -1.12084847e-03,\n",
       "         8.10047739e-02,   4.23500831e-02,   4.77924064e-03,\n",
       "        -1.99754801e-02,   1.84198276e-02,  -2.17550200e-02,\n",
       "         1.45554404e-02,   3.04440406e-02,   2.48185512e-03,\n",
       "         3.08485031e-02,  -8.04416078e-03,   4.59993107e-04,\n",
       "        -1.07534113e-01,  -1.88481227e-03,  -2.50768397e-02,\n",
       "         1.61083542e-02,  -4.21209862e-03,   7.59426501e-03,\n",
       "         1.27689073e-01,   1.28978246e-02,  -3.34441090e-02,\n",
       "         4.97424759e-04,   9.14183724e-04,   1.98245052e-02,\n",
       "         6.78421947e-03,   9.04991705e-02,  -7.14281763e-03,\n",
       "         1.18446044e-02,   4.35749831e-02,  -1.55217572e-02,\n",
       "         1.20732383e-01,   4.06224789e-02,  -4.79777459e-02,\n",
       "         7.37484070e-02,  -2.70816733e-01,   6.68964543e-02,\n",
       "        -1.57027791e-02,   4.42867513e-02,   3.08835755e-03,\n",
       "         4.15482944e-03,  -8.23481091e-02,  -4.20074941e-02,\n",
       "        -1.18415680e-03,  -5.55140322e-02,   4.64034080e-02,\n",
       "        -6.30030848e-02,  -4.75962925e-02,   6.50424654e-02,\n",
       "         3.75416476e-03,  -2.28327796e-02,  -2.94967703e-02,\n",
       "         4.69085610e-02,   5.88976611e-02,   6.96316197e-03,\n",
       "         8.48977061e-03,  -1.91126788e-02,  -5.00498840e-02,\n",
       "        -2.91007491e-02,  -4.96216803e-02,  -1.33237818e-02,\n",
       "        -3.19636937e-02,  -4.26420500e-02,   6.24521033e-02,\n",
       "        -1.34676944e-02,   1.12751004e-02,   1.20094369e-01,\n",
       "         7.42549541e-02,  -1.88266629e-02,  -1.49578338e-02,\n",
       "         8.66441895e-03,   2.07095661e-02,  -6.51598131e-02,\n",
       "        -1.14167586e-01,   3.84297875e-02,   2.09808660e-02,\n",
       "         4.34091879e-03,  -1.64878853e-02,  -5.17689734e-02,\n",
       "        -6.01170580e-02,   6.25438741e-02,  -3.15907104e-03,\n",
       "         8.04670679e-03,   6.96150542e-02,  -9.04049059e-03,\n",
       "        -9.99689413e-03,  -6.86509019e-02,  -2.11224582e-02,\n",
       "        -9.77334080e-02,   1.79943419e-02,   4.84623034e-02,\n",
       "        -2.80475495e-02,   2.66655017e-02,  -1.98926937e-02,\n",
       "         7.84006972e-03,   8.80601251e-03,   4.28268013e-02,\n",
       "        -1.18503951e-02,  -1.62515741e-02,  -3.71106822e-02,\n",
       "        -5.82460257e-02,   5.10959564e-02,   1.13162329e-02,\n",
       "         4.70310848e-03,  -4.01227595e-02,   2.15149854e-02,\n",
       "        -2.34446264e-03,   1.07307056e-02,   7.84015328e-02,\n",
       "         4.17818962e-03,  -1.91985011e-02,  -3.66402685e-02,\n",
       "        -4.86317234e-03,   2.68811146e-02,   4.41140089e-02,\n",
       "         9.78041001e-03,  -1.59666862e-02,  -8.80241506e-02])"
      ]
     },
     "execution_count": 29,
     "metadata": {},
     "output_type": "execute_result"
    }
   ],
   "source": [
    "bk_vecs2['B007QL9PY8']"
   ]
  },
  {
   "cell_type": "code",
   "execution_count": null,
   "metadata": {
    "collapsed": true
   },
   "outputs": [],
   "source": []
  }
 ],
 "metadata": {
  "kernelspec": {
   "display_name": "Python 2",
   "language": "python",
   "name": "python2"
  },
  "language_info": {
   "codemirror_mode": {
    "name": "ipython",
    "version": 2
   },
   "file_extension": ".py",
   "mimetype": "text/x-python",
   "name": "python",
   "nbconvert_exporter": "python",
   "pygments_lexer": "ipython2",
   "version": "2.7.13"
  }
 },
 "nbformat": 4,
 "nbformat_minor": 2
}
